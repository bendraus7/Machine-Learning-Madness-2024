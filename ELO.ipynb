{
 "cells": [
  {
   "cell_type": "markdown",
   "metadata": {
    "_cell_guid": "f0052cd0-ba57-49b1-a137-2087676e87f3",
    "_uuid": "8798c611cfbc65cbe329aa185e76b5a9471a53f1"
   },
   "source": [
    "# Elo ratings based on regular-season games"
   ]
  },
  {
   "cell_type": "markdown",
   "metadata": {
    "_cell_guid": "073ea554-969d-42b5-ab5a-633e732ac6b8",
    "_uuid": "a04f1fc016ee5a4b1abc49683044ff0104c61ce5"
   },
   "source": [
    "This notebook implements Elo ratings for NCAA regular-season games using the same formula as FiveThirtyEight's NBA Elo ratings. My resources for this were:\n",
    "\n",
    "- https://en.wikipedia.org/wiki/Elo_rating_system\n",
    "- https://fivethirtyeight.com/features/how-we-calculate-nba-elo-ratings/\n",
    "- https://github.com/fivethirtyeight/nfl-elo-game/blob/master/forecast.py\n",
    "\n",
    "(The last link above is for 538's NFL Elos (not NBA), but it was useful for a code example of the approach. )\n",
    "\n",
    "The idea here is to get another feature to be plugged in (alongside seeds, etc.) when predicting tournament games."
   ]
  },
  {
   "cell_type": "code",
   "execution_count": 1,
   "metadata": {
    "_cell_guid": "b1076dfc-b9ad-4769-8c92-a6c4dae69d19",
    "_uuid": "8f2839f25d086af736a60e9eeb907d3b93b6e0e5"
   },
   "outputs": [
    {
     "name": "stderr",
     "output_type": "stream",
     "text": [
      "C:\\Users\\socst\\Anaconda3\\lib\\site-packages\\requests\\__init__.py:91: RequestsDependencyWarning: urllib3 (1.26.4) or chardet (3.0.4) doesn't match a supported version!\n",
      "  RequestsDependencyWarning)\n"
     ]
    }
   ],
   "source": [
    "import numpy as np\n",
    "import pandas as pd\n",
    "from sklearn.metrics import log_loss\n",
    "from datetime import datetime\n",
    "from sportsreference.ncaab.boxscore import Boxscores\n",
    "from sportsipy.ncaab.schedule import Schedule\n",
    "from sportsreference.ncaab.teams import Teams\n"
   ]
  },
  {
   "cell_type": "markdown",
   "metadata": {
    "_cell_guid": "5569a2a0-cd31-4045-a060-9777417fc80f",
    "_uuid": "3b851dbc3778b1d8443707eb90e1a34fb54b8f79"
   },
   "source": [
    "The following parameter `K` affects how quickly the Elo adjusts to new information. Here I'm just using the value that 538 found most appropriate for the NBA -- I haven't done any analysis around whether this value is also the best in terms of college basketball.\n",
    "\n",
    "I also use the same home-court advantage as 538: the host team gets an extra 100 points added to their Elo."
   ]
  },
  {
   "cell_type": "code",
   "execution_count": 2,
   "metadata": {
    "_cell_guid": "0c7a3dd7-72b3-434a-947f-d9fca0fbc5ae",
    "_uuid": "542133a36b3b2418a59093e9f79a2ec59f1ef4b1"
   },
   "outputs": [],
   "source": [
    "K = 20.\n",
    "HOME_ADVANTAGE = 100."
   ]
  },
  {
   "cell_type": "code",
   "execution_count": 3,
   "metadata": {
    "_cell_guid": "3c2255a5-661f-4ade-88b1-d5851224afbe",
    "_uuid": "97afdd8f5777b10b7d81b8d998b599e300ffe9bf",
    "scrolled": true
   },
   "outputs": [
    {
     "data": {
      "text/html": [
       "<div>\n",
       "<style scoped>\n",
       "    .dataframe tbody tr th:only-of-type {\n",
       "        vertical-align: middle;\n",
       "    }\n",
       "\n",
       "    .dataframe tbody tr th {\n",
       "        vertical-align: top;\n",
       "    }\n",
       "\n",
       "    .dataframe thead th {\n",
       "        text-align: right;\n",
       "    }\n",
       "</style>\n",
       "<table border=\"1\" class=\"dataframe\">\n",
       "  <thead>\n",
       "    <tr style=\"text-align: right;\">\n",
       "      <th></th>\n",
       "      <th>Season</th>\n",
       "      <th>DayNum</th>\n",
       "      <th>WTeamID</th>\n",
       "      <th>WScore</th>\n",
       "      <th>LTeamID</th>\n",
       "      <th>LScore</th>\n",
       "      <th>WLoc</th>\n",
       "      <th>NumOT</th>\n",
       "    </tr>\n",
       "  </thead>\n",
       "  <tbody>\n",
       "    <tr>\n",
       "      <td>0</td>\n",
       "      <td>1985</td>\n",
       "      <td>20</td>\n",
       "      <td>1228</td>\n",
       "      <td>81</td>\n",
       "      <td>1328</td>\n",
       "      <td>64</td>\n",
       "      <td>N</td>\n",
       "      <td>0</td>\n",
       "    </tr>\n",
       "    <tr>\n",
       "      <td>1</td>\n",
       "      <td>1985</td>\n",
       "      <td>25</td>\n",
       "      <td>1106</td>\n",
       "      <td>77</td>\n",
       "      <td>1354</td>\n",
       "      <td>70</td>\n",
       "      <td>H</td>\n",
       "      <td>0</td>\n",
       "    </tr>\n",
       "    <tr>\n",
       "      <td>2</td>\n",
       "      <td>1985</td>\n",
       "      <td>25</td>\n",
       "      <td>1112</td>\n",
       "      <td>63</td>\n",
       "      <td>1223</td>\n",
       "      <td>56</td>\n",
       "      <td>H</td>\n",
       "      <td>0</td>\n",
       "    </tr>\n",
       "  </tbody>\n",
       "</table>\n",
       "</div>"
      ],
      "text/plain": [
       "   Season  DayNum  WTeamID  WScore  LTeamID  LScore WLoc  NumOT\n",
       "0    1985      20     1228      81     1328      64    N      0\n",
       "1    1985      25     1106      77     1354      70    H      0\n",
       "2    1985      25     1112      63     1223      56    H      0"
      ]
     },
     "execution_count": 3,
     "metadata": {},
     "output_type": "execute_result"
    }
   ],
   "source": [
    "rs = pd.read_csv(r\"C:\\Users\\socst\\Documents\\Python Scripts\\NCAAB-master\\2023 MM\\Data\\MDataFiles_Stage1\\MRegularSeasonCompactResults.csv\")\n",
    "rs.head(3)"
   ]
  },
  {
   "cell_type": "code",
   "execution_count": 4,
   "metadata": {
    "_cell_guid": "79c7e3d0-c299-4dcb-8224-4455121ee9b0",
    "_uuid": "d629ff2d2480ee46fbb7e2d37f6b5fab8052498a"
   },
   "outputs": [
    {
     "data": {
      "text/plain": [
       "377"
      ]
     },
     "execution_count": 4,
     "metadata": {},
     "output_type": "execute_result"
    }
   ],
   "source": [
    "team_ids = set(rs.WTeamID).union(set(rs.LTeamID))\n",
    "len(team_ids)"
   ]
  },
  {
   "cell_type": "markdown",
   "metadata": {
    "_cell_guid": "a44edd1c-5b4c-43ec-afb5-2d7e25a5ee80",
    "_uuid": "50dc2404a3fdaffb53440902d1cd4fa3c29c2dfd"
   },
   "source": [
    "I'm going to initialise all teams with a rating of 1500. There are two differences here with the 538 approach:\n",
    "\n",
    "- New entrants (when and where there are any) will start at the average 1500 Elo rather than a lower rating probably more appropriate for a new team.\n",
    "- There is no reversion to the mean between seasons. Each team's Elo starts exactly where it left off the previous season.  My justification here is that we only care about the end-of-season rating in terms of making predictions on the NCAA tournament, so even if ratings are a little off at first, they have the entire regular season to converge to something more appropriate."
   ]
  },
  {
   "cell_type": "code",
   "execution_count": 5,
   "metadata": {
    "_cell_guid": "3ce67e42-d1f2-4ef0-917e-86559a909933",
    "_uuid": "bbbc54c5ea6a334d855efcd1e5ccf94fd69dad42"
   },
   "outputs": [],
   "source": [
    "# This dictionary will be used as a lookup for current\n",
    "# scores while the algorithm is iterating through each game\n",
    "elo_dict = dict(zip(list(team_ids), [1500] * len(team_ids)))"
   ]
  },
  {
   "cell_type": "code",
   "execution_count": 6,
   "metadata": {
    "_cell_guid": "c207f084-8393-4395-876e-cb5daa178dd9",
    "_uuid": "7431956d793260159e89c4afc4c8ef7b2a28f15b"
   },
   "outputs": [],
   "source": [
    "# Elo updates will be scaled based on the margin of victory\n",
    "rs['margin'] = rs.WScore - rs.LScore"
   ]
  },
  {
   "cell_type": "markdown",
   "metadata": {
    "_cell_guid": "92b2edef-39c1-406b-9483-90108d510993",
    "_uuid": "801d7d9b060f54e72abfcf9454a96451a602b707"
   },
   "source": [
    "The three functions below contain the meat of the Elo calculation:"
   ]
  },
  {
   "cell_type": "code",
   "execution_count": 7,
   "metadata": {
    "_cell_guid": "02d5d58a-1322-4d8c-a15d-b8708dac8dda",
    "_uuid": "69086b14a420a75863a3b51c0a68595b6bc545a6"
   },
   "outputs": [],
   "source": [
    "def elo_pred(elo1, elo2):\n",
    "    return(1. / (10. ** (-(elo1 - elo2) / 400.) + 1.))\n",
    "\n",
    "def expected_margin(elo_diff):\n",
    "    return((7.5 + 0.006 * elo_diff))\n",
    "\n",
    "def elo_update(w_elo, l_elo, margin):\n",
    "    elo_diff = w_elo - l_elo\n",
    "    pred = elo_pred(w_elo, l_elo)\n",
    "    mult = ((margin + 3.) ** 0.8) / expected_margin(elo_diff)\n",
    "    update = K * mult * (1 - pred)\n",
    "    return(pred, update)"
   ]
  },
  {
   "cell_type": "code",
   "execution_count": 8,
   "metadata": {
    "_cell_guid": "b02b0a05-a99f-4fdc-a815-034a14f7d848",
    "_uuid": "99ace989fd4a93772f0c4ff840c8f00d32ca386e"
   },
   "outputs": [],
   "source": [
    "# I'm going to iterate over the games dataframe using \n",
    "# index numbers, so want to check that nothing is out\n",
    "# of order before I do that.\n",
    "assert np.all(rs.index.values == np.array(range(rs.shape[0]))), \"Index is out of order.\""
   ]
  },
  {
   "cell_type": "code",
   "execution_count": 9,
   "metadata": {
    "_cell_guid": "11dd01a4-2fd7-48d0-ab8a-6d40e8f20a47",
    "_uuid": "3b060e82b579cac4031dcce790063da5a4c86f07"
   },
   "outputs": [],
   "source": [
    "preds = []\n",
    "w_elo = []\n",
    "l_elo = []\n",
    "\n",
    "# Loop over all rows of the games dataframe\n",
    "for row in rs.itertuples():\n",
    "    \n",
    "    # Get key data from current row\n",
    "    w = row.WTeamID\n",
    "    l = row.LTeamID\n",
    "    margin = row.margin\n",
    "    wloc = row.WLoc\n",
    "    \n",
    "    # Does either team get a home-court advantage?\n",
    "    w_ad, l_ad, = 0., 0.\n",
    "    if wloc == \"H\":\n",
    "        w_ad += HOME_ADVANTAGE\n",
    "    elif wloc == \"A\":\n",
    "        l_ad += HOME_ADVANTAGE\n",
    "    \n",
    "    # Get elo updates as a result of the game\n",
    "    pred, update = elo_update(elo_dict[w] + w_ad,\n",
    "                              elo_dict[l] + l_ad, \n",
    "                              margin)\n",
    "    elo_dict[w] += update\n",
    "    elo_dict[l] -= update\n",
    "    \n",
    "    # Save prediction and new Elos for each round\n",
    "    preds.append(pred)\n",
    "    w_elo.append(elo_dict[w])\n",
    "    l_elo.append(elo_dict[l])"
   ]
  },
  {
   "cell_type": "code",
   "execution_count": 10,
   "metadata": {
    "_uuid": "418941bd1daa46cb2dafcbc16da52b7319dacd1e"
   },
   "outputs": [],
   "source": [
    "rs['w_elo'] = w_elo\n",
    "rs['l_elo'] = l_elo"
   ]
  },
  {
   "cell_type": "markdown",
   "metadata": {
    "_cell_guid": "66d5ed5c-7243-4dcf-ad08-24a63512d23c",
    "_uuid": "90c3cb0cbd037e02ac3124848aa0a2355a390e41"
   },
   "source": [
    "Let's take a look at the last few games in the games dataframe to check that the Elo ratings look reasonable."
   ]
  },
  {
   "cell_type": "code",
   "execution_count": 11,
   "metadata": {
    "_cell_guid": "b9355056-4a50-45ca-9eee-e6d44d7e3df6",
    "_uuid": "f6fbc52a0b9d8d6899d0233d6462ff4d241152ea"
   },
   "outputs": [
    {
     "data": {
      "text/html": [
       "<div>\n",
       "<style scoped>\n",
       "    .dataframe tbody tr th:only-of-type {\n",
       "        vertical-align: middle;\n",
       "    }\n",
       "\n",
       "    .dataframe tbody tr th {\n",
       "        vertical-align: top;\n",
       "    }\n",
       "\n",
       "    .dataframe thead th {\n",
       "        text-align: right;\n",
       "    }\n",
       "</style>\n",
       "<table border=\"1\" class=\"dataframe\">\n",
       "  <thead>\n",
       "    <tr style=\"text-align: right;\">\n",
       "      <th></th>\n",
       "      <th>Season</th>\n",
       "      <th>DayNum</th>\n",
       "      <th>WTeamID</th>\n",
       "      <th>WScore</th>\n",
       "      <th>LTeamID</th>\n",
       "      <th>LScore</th>\n",
       "      <th>WLoc</th>\n",
       "      <th>NumOT</th>\n",
       "      <th>margin</th>\n",
       "      <th>w_elo</th>\n",
       "      <th>l_elo</th>\n",
       "    </tr>\n",
       "  </thead>\n",
       "  <tbody>\n",
       "    <tr>\n",
       "      <td>181515</td>\n",
       "      <td>2023</td>\n",
       "      <td>127</td>\n",
       "      <td>1350</td>\n",
       "      <td>71</td>\n",
       "      <td>1269</td>\n",
       "      <td>38</td>\n",
       "      <td>N</td>\n",
       "      <td>0</td>\n",
       "      <td>33</td>\n",
       "      <td>1638.237049</td>\n",
       "      <td>1520.833752</td>\n",
       "    </tr>\n",
       "    <tr>\n",
       "      <td>181516</td>\n",
       "      <td>2023</td>\n",
       "      <td>127</td>\n",
       "      <td>1386</td>\n",
       "      <td>72</td>\n",
       "      <td>1260</td>\n",
       "      <td>67</td>\n",
       "      <td>N</td>\n",
       "      <td>0</td>\n",
       "      <td>5</td>\n",
       "      <td>1503.679114</td>\n",
       "      <td>1553.488820</td>\n",
       "    </tr>\n",
       "    <tr>\n",
       "      <td>181517</td>\n",
       "      <td>2023</td>\n",
       "      <td>127</td>\n",
       "      <td>1389</td>\n",
       "      <td>70</td>\n",
       "      <td>1193</td>\n",
       "      <td>52</td>\n",
       "      <td>N</td>\n",
       "      <td>0</td>\n",
       "      <td>18</td>\n",
       "      <td>1391.293255</td>\n",
       "      <td>1358.554557</td>\n",
       "    </tr>\n",
       "    <tr>\n",
       "      <td>181518</td>\n",
       "      <td>2023</td>\n",
       "      <td>127</td>\n",
       "      <td>1394</td>\n",
       "      <td>80</td>\n",
       "      <td>1270</td>\n",
       "      <td>63</td>\n",
       "      <td>N</td>\n",
       "      <td>0</td>\n",
       "      <td>17</td>\n",
       "      <td>1411.096268</td>\n",
       "      <td>1176.191505</td>\n",
       "    </tr>\n",
       "    <tr>\n",
       "      <td>181519</td>\n",
       "      <td>2023</td>\n",
       "      <td>127</td>\n",
       "      <td>1436</td>\n",
       "      <td>79</td>\n",
       "      <td>1127</td>\n",
       "      <td>57</td>\n",
       "      <td>H</td>\n",
       "      <td>0</td>\n",
       "      <td>22</td>\n",
       "      <td>1641.156507</td>\n",
       "      <td>1278.944215</td>\n",
       "    </tr>\n",
       "    <tr>\n",
       "      <td>181520</td>\n",
       "      <td>2023</td>\n",
       "      <td>127</td>\n",
       "      <td>1439</td>\n",
       "      <td>67</td>\n",
       "      <td>1323</td>\n",
       "      <td>64</td>\n",
       "      <td>N</td>\n",
       "      <td>0</td>\n",
       "      <td>3</td>\n",
       "      <td>1832.947142</td>\n",
       "      <td>1664.341932</td>\n",
       "    </tr>\n",
       "    <tr>\n",
       "      <td>181521</td>\n",
       "      <td>2023</td>\n",
       "      <td>127</td>\n",
       "      <td>1465</td>\n",
       "      <td>69</td>\n",
       "      <td>1101</td>\n",
       "      <td>62</td>\n",
       "      <td>N</td>\n",
       "      <td>0</td>\n",
       "      <td>7</td>\n",
       "      <td>1472.145962</td>\n",
       "      <td>1504.825849</td>\n",
       "    </tr>\n",
       "    <tr>\n",
       "      <td>181522</td>\n",
       "      <td>2023</td>\n",
       "      <td>127</td>\n",
       "      <td>1467</td>\n",
       "      <td>67</td>\n",
       "      <td>1192</td>\n",
       "      <td>66</td>\n",
       "      <td>H</td>\n",
       "      <td>0</td>\n",
       "      <td>1</td>\n",
       "      <td>1378.858976</td>\n",
       "      <td>1313.464490</td>\n",
       "    </tr>\n",
       "    <tr>\n",
       "      <td>181523</td>\n",
       "      <td>2023</td>\n",
       "      <td>127</td>\n",
       "      <td>1469</td>\n",
       "      <td>80</td>\n",
       "      <td>1372</td>\n",
       "      <td>76</td>\n",
       "      <td>N</td>\n",
       "      <td>1</td>\n",
       "      <td>4</td>\n",
       "      <td>1419.466510</td>\n",
       "      <td>1547.931368</td>\n",
       "    </tr>\n",
       "    <tr>\n",
       "      <td>181524</td>\n",
       "      <td>2023</td>\n",
       "      <td>127</td>\n",
       "      <td>1470</td>\n",
       "      <td>74</td>\n",
       "      <td>1410</td>\n",
       "      <td>70</td>\n",
       "      <td>N</td>\n",
       "      <td>0</td>\n",
       "      <td>4</td>\n",
       "      <td>1485.794528</td>\n",
       "      <td>1313.724008</td>\n",
       "    </tr>\n",
       "  </tbody>\n",
       "</table>\n",
       "</div>"
      ],
      "text/plain": [
       "        Season  DayNum  WTeamID  WScore  LTeamID  LScore WLoc  NumOT  margin  \\\n",
       "181515    2023     127     1350      71     1269      38    N      0      33   \n",
       "181516    2023     127     1386      72     1260      67    N      0       5   \n",
       "181517    2023     127     1389      70     1193      52    N      0      18   \n",
       "181518    2023     127     1394      80     1270      63    N      0      17   \n",
       "181519    2023     127     1436      79     1127      57    H      0      22   \n",
       "181520    2023     127     1439      67     1323      64    N      0       3   \n",
       "181521    2023     127     1465      69     1101      62    N      0       7   \n",
       "181522    2023     127     1467      67     1192      66    H      0       1   \n",
       "181523    2023     127     1469      80     1372      76    N      1       4   \n",
       "181524    2023     127     1470      74     1410      70    N      0       4   \n",
       "\n",
       "              w_elo        l_elo  \n",
       "181515  1638.237049  1520.833752  \n",
       "181516  1503.679114  1553.488820  \n",
       "181517  1391.293255  1358.554557  \n",
       "181518  1411.096268  1176.191505  \n",
       "181519  1641.156507  1278.944215  \n",
       "181520  1832.947142  1664.341932  \n",
       "181521  1472.145962  1504.825849  \n",
       "181522  1378.858976  1313.464490  \n",
       "181523  1419.466510  1547.931368  \n",
       "181524  1485.794528  1313.724008  "
      ]
     },
     "execution_count": 11,
     "metadata": {},
     "output_type": "execute_result"
    }
   ],
   "source": [
    "rs.tail(10)"
   ]
  },
  {
   "cell_type": "markdown",
   "metadata": {
    "_cell_guid": "66534622-26fe-4268-9db3-c7f8096dfc53",
    "_uuid": "b7ad6a1341c7ecc22d33c1fd4ac7f3c778192f07"
   },
   "source": [
    "Looks OK. How well do they generally predict games? Since all of the Elo predictions calculated above have a true outcome of 1, it's really simple to check what the log loss would be on these 150k games:"
   ]
  },
  {
   "cell_type": "code",
   "execution_count": 12,
   "metadata": {
    "_cell_guid": "a7642ed5-0f9a-4e50-a30d-fddd35472f41",
    "_uuid": "1e19c4cb80658d9ccf466fe6fe000db09d651f77"
   },
   "outputs": [
    {
     "data": {
      "text/plain": [
       "0.5354759889664574"
      ]
     },
     "execution_count": 12,
     "metadata": {},
     "output_type": "execute_result"
    }
   ],
   "source": [
    "np.mean(-np.log(preds))"
   ]
  },
  {
   "cell_type": "markdown",
   "metadata": {
    "_cell_guid": "0c25aee6-5e8b-4e0f-93eb-70b549fce9c3",
    "_uuid": "537dd83b02d4d3df5596cb884693da75646e86f0"
   },
   "source": [
    "(This is a pretty rough measure, because this is looking only at regular-season games, which is not really what we're ultimately interested in predicting.)"
   ]
  },
  {
   "cell_type": "markdown",
   "metadata": {
    "_cell_guid": "1c675358-3d88-4a46-8de7-aaec03646bb9",
    "_uuid": "adae8ff755b598946b19c2c0aca0eac52cfb4b7c"
   },
   "source": [
    "Final step: for each team, pull out the final Elo rating at the end of each regular season. This is a bit annoying because the team ID could be in either the winner or loser column for their last game of the season.."
   ]
  },
  {
   "cell_type": "code",
   "execution_count": 13,
   "metadata": {
    "_cell_guid": "caca9374-e98f-4f2f-a7dc-4b641e5ab9f3",
    "_uuid": "d37dfe8cecd8d599c3d1af6f7cc2fa5e286b2dd1"
   },
   "outputs": [],
   "source": [
    "def final_elo_per_season(df, team_id):\n",
    "    d = df.copy()\n",
    "    d = d.loc[(d.WTeamID == team_id) | (d.LTeamID == team_id), :]\n",
    "    d.sort_values(['Season', 'DayNum'], inplace=True)\n",
    "    d.drop_duplicates(['Season'], keep='last', inplace=True)\n",
    "    w_mask = d.WTeamID == team_id\n",
    "    l_mask = d.LTeamID == team_id\n",
    "    d['season_elo'] = None\n",
    "    d.loc[w_mask, 'season_elo'] = d.loc[w_mask, 'w_elo']\n",
    "    d.loc[l_mask, 'season_elo'] = d.loc[l_mask, 'l_elo']\n",
    "    out = pd.DataFrame({\n",
    "        'team_id': team_id,\n",
    "        'season': d.Season,\n",
    "        'season_elo': d.season_elo\n",
    "    })\n",
    "    return(out)"
   ]
  },
  {
   "cell_type": "code",
   "execution_count": 14,
   "metadata": {
    "_cell_guid": "643fb478-40fe-4d3e-9acd-883d0e27684e",
    "_uuid": "78db5dffed315a72406cd2837543deb7e06ec77b"
   },
   "outputs": [],
   "source": [
    "df_list = [final_elo_per_season(rs, id) for id in team_ids]\n",
    "season_elos = pd.concat(df_list)"
   ]
  },
  {
   "cell_type": "code",
   "execution_count": 15,
   "metadata": {
    "_cell_guid": "8bfb7a28-0e98-4ab6-a3f5-1770ed1fe516",
    "_uuid": "5290d636cadcd6bd02cfb65ebe16325c45028ec0"
   },
   "outputs": [
    {
     "data": {
      "text/html": [
       "<div>\n",
       "<style scoped>\n",
       "    .dataframe tbody tr th:only-of-type {\n",
       "        vertical-align: middle;\n",
       "    }\n",
       "\n",
       "    .dataframe tbody tr th {\n",
       "        vertical-align: top;\n",
       "    }\n",
       "\n",
       "    .dataframe thead th {\n",
       "        text-align: right;\n",
       "    }\n",
       "</style>\n",
       "<table border=\"1\" class=\"dataframe\">\n",
       "  <thead>\n",
       "    <tr style=\"text-align: right;\">\n",
       "      <th></th>\n",
       "      <th>team_id</th>\n",
       "      <th>season</th>\n",
       "      <th>season_elo</th>\n",
       "    </tr>\n",
       "  </thead>\n",
       "  <tbody>\n",
       "    <tr>\n",
       "      <td>47943</td>\n",
       "      <td>1208</td>\n",
       "      <td>1996</td>\n",
       "      <td>1789.4</td>\n",
       "    </tr>\n",
       "    <tr>\n",
       "      <td>78571</td>\n",
       "      <td>1336</td>\n",
       "      <td>2003</td>\n",
       "      <td>1503.77</td>\n",
       "    </tr>\n",
       "    <tr>\n",
       "      <td>96785</td>\n",
       "      <td>1152</td>\n",
       "      <td>2007</td>\n",
       "      <td>1340.19</td>\n",
       "    </tr>\n",
       "    <tr>\n",
       "      <td>156076</td>\n",
       "      <td>1361</td>\n",
       "      <td>2018</td>\n",
       "      <td>1783.74</td>\n",
       "    </tr>\n",
       "    <tr>\n",
       "      <td>170112</td>\n",
       "      <td>1227</td>\n",
       "      <td>2021</td>\n",
       "      <td>1401.51</td>\n",
       "    </tr>\n",
       "    <tr>\n",
       "      <td>47951</td>\n",
       "      <td>1390</td>\n",
       "      <td>1996</td>\n",
       "      <td>1783</td>\n",
       "    </tr>\n",
       "    <tr>\n",
       "      <td>43719</td>\n",
       "      <td>1264</td>\n",
       "      <td>1995</td>\n",
       "      <td>1663.49</td>\n",
       "    </tr>\n",
       "    <tr>\n",
       "      <td>87722</td>\n",
       "      <td>1149</td>\n",
       "      <td>2005</td>\n",
       "      <td>1236.95</td>\n",
       "    </tr>\n",
       "    <tr>\n",
       "      <td>43514</td>\n",
       "      <td>1331</td>\n",
       "      <td>1995</td>\n",
       "      <td>1301.34</td>\n",
       "    </tr>\n",
       "    <tr>\n",
       "      <td>56179</td>\n",
       "      <td>1435</td>\n",
       "      <td>1998</td>\n",
       "      <td>1724.28</td>\n",
       "    </tr>\n",
       "  </tbody>\n",
       "</table>\n",
       "</div>"
      ],
      "text/plain": [
       "        team_id  season season_elo\n",
       "47943      1208    1996     1789.4\n",
       "78571      1336    2003    1503.77\n",
       "96785      1152    2007    1340.19\n",
       "156076     1361    2018    1783.74\n",
       "170112     1227    2021    1401.51\n",
       "47951      1390    1996       1783\n",
       "43719      1264    1995    1663.49\n",
       "87722      1149    2005    1236.95\n",
       "43514      1331    1995    1301.34\n",
       "56179      1435    1998    1724.28"
      ]
     },
     "execution_count": 15,
     "metadata": {},
     "output_type": "execute_result"
    }
   ],
   "source": [
    "season_elos.sample(10)"
   ]
  },
  {
   "cell_type": "code",
   "execution_count": 16,
   "metadata": {},
   "outputs": [
    {
     "data": {
      "text/plain": [
       "2023"
      ]
     },
     "execution_count": 16,
     "metadata": {},
     "output_type": "execute_result"
    }
   ],
   "source": [
    "season_elos['season'].max()"
   ]
  },
  {
   "cell_type": "code",
   "execution_count": 18,
   "metadata": {
    "_cell_guid": "dea1087c-9ee3-4eb1-9d64-484ae78ffdad",
    "_uuid": "f6487be02112ff290e24b18158dc3d8002d24e27"
   },
   "outputs": [],
   "source": [
    "season_elos.to_csv(r\"C:\\Users\\socst\\Documents\\Python Scripts\\NCAAB-master\\2023 MM\\Data\\season_elos.csv\", index=None)"
   ]
  },
  {
   "cell_type": "code",
   "execution_count": null,
   "metadata": {
    "_uuid": "7ce3818689f3c98cad7c62b8519c73e05c7e7673"
   },
   "outputs": [],
   "source": []
  }
 ],
 "metadata": {
  "kernelspec": {
   "display_name": "Python 3",
   "language": "python",
   "name": "python3"
  },
  "language_info": {
   "codemirror_mode": {
    "name": "ipython",
    "version": 3
   },
   "file_extension": ".py",
   "mimetype": "text/x-python",
   "name": "python",
   "nbconvert_exporter": "python",
   "pygments_lexer": "ipython3",
   "version": "3.7.3"
  }
 },
 "nbformat": 4,
 "nbformat_minor": 1
}
